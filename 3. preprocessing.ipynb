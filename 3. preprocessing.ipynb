{
 "cells": [
  {
   "cell_type": "code",
   "execution_count": 1,
   "id": "8c2eb4b9-2ad0-4838-bb90-1fbcc8531f92",
   "metadata": {},
   "outputs": [],
   "source": [
    "import numpy as np\n",
    "np.random.seed(42)\n",
    "np.set_printoptions(suppress=True)\n",
    "from scipy.optimize import least_squares, curve_fit\n",
    "from matplotlib import pylab as plt\n",
    "import pandas as pd\n",
    "import glob\n",
    "import time\n",
    "from tqdm.notebook import tqdm\n",
    "import os\n",
    "import random\n",
    "\n",
    "import warnings\n",
    "from scipy.optimize import OptimizeWarning\n",
    "warnings.simplefilter(\"error\", OptimizeWarning)\n",
    "\n",
    "import seaborn as sns\n",
    "sns.set()"
   ]
  },
  {
   "cell_type": "code",
   "execution_count": 2,
   "id": "bc81fc1c-d30c-47ed-ab06-267c06adc394",
   "metadata": {},
   "outputs": [],
   "source": [
    "filels = glob.glob(\"centered_csv_data/*.csv\")"
   ]
  },
  {
   "cell_type": "code",
   "execution_count": 3,
   "id": "511487dd-019e-4ec7-bb3b-0281fdb7c632",
   "metadata": {},
   "outputs": [],
   "source": [
    "def fill_centered_df(df,time_steps = 200):\n",
    "    df = pd.read_csv(file)\n",
    "    df[\"mjd\"] = df[\"mjd\"] - df[\"mjd\"][0]\n",
    "    df[\"mjd\"] = df[\"mjd\"].round(decimals=0).astype('int')\n",
    "    df = df.sort_values(\"fluxerr\").groupby([\"mjd\", \"band\"]).first().reset_index()\n",
    "    \n",
    "    # df = df.drop(['detected_bool', 'ratio','ratio2bool'],1)\n",
    "    df = df.drop(['detected_bool', 'ratio','ratio2bool','fluxerr'],1)\n",
    "\n",
    "    df = pd.pivot_table(df, index=[\"mjd\"], columns=[\"band\"])\n",
    "    df.columns= [f\"{tup[0]}_{tup[1]}\" for tup in df.columns]\n",
    "    \n",
    "    df = df.reindex(np.arange(0, time_steps))\n",
    "    \n",
    "    # rearranged_cols = [[f\"flux_{f}\",f\"fluxerr_{f}\"] for f in \"ugrizY\"]\n",
    "    # rearranged_cols = [item for sublist in rearranged_cols for item in sublist]\n",
    "\n",
    "    # rearranged_cols = [f\"flux_{f}\" for f in \"ugrizY\"] + [f\"fluxerr_{f}\" for f in \"ugrizY\"]\n",
    "    rearranged_cols = [f\"flux_{f}\" for f in \"ugrizY\"]\n",
    "\n",
    "\n",
    "    df = df[rearranged_cols]\n",
    "    \n",
    "    return df"
   ]
  },
  {
   "cell_type": "code",
   "execution_count": 4,
   "id": "7b380144-be05-4919-a99b-8d3ab3e2549a",
   "metadata": {},
   "outputs": [],
   "source": [
    "if not os.path.isdir(\"preprocessed_csv_data\"):\n",
    "    os.mkdir(\"preprocessed_csv_data\")"
   ]
  },
  {
   "cell_type": "code",
   "execution_count": 5,
   "id": "694a4061-e5e0-4899-8d41-7bdb4984effe",
   "metadata": {},
   "outputs": [
    {
     "data": {
      "application/vnd.jupyter.widget-view+json": {
       "model_id": "13839e93027a4170bf164f5896a82045",
       "version_major": 2,
       "version_minor": 0
      },
      "text/plain": [
       "  0%|          | 0/4000 [00:00<?, ?it/s]"
      ]
     },
     "metadata": {},
     "output_type": "display_data"
    }
   ],
   "source": [
    "for file in tqdm(filels):\n",
    "    df = pd.read_csv(file)\n",
    "    df = fill_centered_df(df)\n",
    "    df.to_csv(f\"preprocessed_csv_data/{file.split('/')[-1]}\",index=False)"
   ]
  },
  {
   "cell_type": "code",
   "execution_count": 6,
   "id": "1928faaf-5e92-49ed-b1c6-e1ca03856d2c",
   "metadata": {},
   "outputs": [
    {
     "name": "stdout",
     "output_type": "stream",
     "text": [
      "usage: git [--version] [--help] [-C <path>] [-c <name>=<value>]\n",
      "           [--exec-path[=<path>]] [--html-path] [--man-path] [--info-path]\n",
      "           [-p | --paginate | --no-pager] [--no-replace-objects] [--bare]\n",
      "           [--git-dir=<path>] [--work-tree=<path>] [--namespace=<name>]\n",
      "           <command> [<args>]\n",
      "\n",
      "These are common Git commands used in various situations:\n",
      "\n",
      "start a working area (see also: git help tutorial)\n",
      "   clone      Clone a repository into a new directory\n",
      "   init       Create an empty Git repository or reinitialize an existing one\n",
      "\n",
      "work on the current change (see also: git help everyday)\n",
      "   add        Add file contents to the index\n",
      "   mv         Move or rename a file, a directory, or a symlink\n",
      "   reset      Reset current HEAD to the specified state\n",
      "   rm         Remove files from the working tree and from the index\n",
      "\n",
      "examine the history and state (see also: git help revisions)\n",
      "   bisect     Use binary search to find the commit that introduced a bug\n",
      "   grep       Print lines matching a pattern\n",
      "   log        Show commit logs\n",
      "   show       Show various types of objects\n",
      "   status     Show the working tree status\n",
      "\n",
      "grow, mark and tweak your common history\n",
      "   branch     List, create, or delete branches\n",
      "   checkout   Switch branches or restore working tree files\n",
      "   commit     Record changes to the repository\n",
      "   diff       Show changes between commits, commit and working tree, etc\n",
      "   merge      Join two or more development histories together\n",
      "   rebase     Reapply commits on top of another base tip\n",
      "   tag        Create, list, delete or verify a tag object signed with GPG\n",
      "\n",
      "collaborate (see also: git help workflows)\n",
      "   fetch      Download objects and refs from another repository\n",
      "   pull       Fetch from and integrate with another repository or a local branch\n",
      "   push       Update remote refs along with associated objects\n",
      "\n",
      "'git help -a' and 'git help -g' list available subcommands and some\n",
      "concept guides. See 'git help <command>' or 'git help <concept>'\n",
      "to read about a specific subcommand or concept.\n"
     ]
    }
   ],
   "source": [
    "!git"
   ]
  },
  {
   "cell_type": "code",
   "execution_count": null,
   "id": "09d7ee11-5636-4886-85aa-fda22b74442b",
   "metadata": {},
   "outputs": [],
   "source": []
  }
 ],
 "metadata": {
  "kernelspec": {
   "display_name": "Python 3",
   "language": "python",
   "name": "python3"
  },
  "language_info": {
   "codemirror_mode": {
    "name": "ipython",
    "version": 3
   },
   "file_extension": ".py",
   "mimetype": "text/x-python",
   "name": "python",
   "nbconvert_exporter": "python",
   "pygments_lexer": "ipython3",
   "version": "3.6.9"
  }
 },
 "nbformat": 4,
 "nbformat_minor": 5
}
