{
 "cells": [
  {
   "cell_type": "code",
   "execution_count": 1,
   "id": "8c2eb4b9-2ad0-4838-bb90-1fbcc8531f92",
   "metadata": {},
   "outputs": [],
   "source": [
    "import numpy as np\n",
    "np.random.seed(42)\n",
    "np.set_printoptions(suppress=True)\n",
    "from scipy.optimize import least_squares, curve_fit\n",
    "from matplotlib import pylab as plt\n",
    "import pandas as pd\n",
    "import glob\n",
    "import time\n",
    "from tqdm.notebook import tqdm\n",
    "import os\n",
    "import random\n",
    "\n",
    "import warnings\n",
    "from scipy.optimize import OptimizeWarning\n",
    "warnings.simplefilter(\"error\", OptimizeWarning)\n",
    "\n",
    "import seaborn as sns\n",
    "sns.set()"
   ]
  },
  {
   "cell_type": "code",
   "execution_count": 2,
   "id": "bc81fc1c-d30c-47ed-ab06-267c06adc394",
   "metadata": {},
   "outputs": [],
   "source": [
    "filels = glob.glob(\"centered_csv_data/*.csv\")"
   ]
  },
  {
   "cell_type": "code",
   "execution_count": 3,
   "id": "511487dd-019e-4ec7-bb3b-0281fdb7c632",
   "metadata": {},
   "outputs": [],
   "source": [
    "def fill_centered_df(df,time_steps = 200):\n",
    "    df = pd.read_csv(file)\n",
    "    df[\"mjd\"] = df[\"mjd\"] - df[\"mjd\"][0]\n",
    "    df[\"mjd\"] = df[\"mjd\"].round(decimals=0).astype('int')\n",
    "    df = df.sort_values(\"fluxerr\").groupby([\"mjd\", \"band\"]).first().reset_index()\n",
    "    \n",
    "    # df = df.drop(['detected_bool', 'ratio','ratio2bool'],1)\n",
    "    df = df.drop(['detected_bool', 'ratio','ratio2bool','fluxerr'],1)\n",
    "\n",
    "    df = pd.pivot_table(df, index=[\"mjd\"], columns=[\"band\"])\n",
    "    df.columns= [f\"{tup[0]}_{tup[1]}\" for tup in df.columns]\n",
    "    \n",
    "    df = df.reindex(np.arange(0, time_steps))\n",
    "    \n",
    "    # rearranged_cols = [[f\"flux_{f}\",f\"fluxerr_{f}\"] for f in \"ugrizY\"]\n",
    "    # rearranged_cols = [item for sublist in rearranged_cols for item in sublist]\n",
    "\n",
    "    # rearranged_cols = [f\"flux_{f}\" for f in \"ugrizY\"] + [f\"fluxerr_{f}\" for f in \"ugrizY\"]\n",
    "    rearranged_cols = [f\"flux_{f}\" for f in \"ugrizY\"]\n",
    "\n",
    "\n",
    "    df = df[rearranged_cols]\n",
    "    \n",
    "    return df"
   ]
  },
  {
   "cell_type": "code",
   "execution_count": 4,
   "id": "7b380144-be05-4919-a99b-8d3ab3e2549a",
   "metadata": {},
   "outputs": [],
   "source": [
    "if not os.path.isdir(\"preprocessed_csv_data\"):\n",
    "    os.mkdir(\"preprocessed_csv_data\")"
   ]
  },
  {
   "cell_type": "code",
   "execution_count": 5,
   "id": "694a4061-e5e0-4899-8d41-7bdb4984effe",
   "metadata": {},
   "outputs": [
    {
     "data": {
      "application/vnd.jupyter.widget-view+json": {
       "model_id": "13839e93027a4170bf164f5896a82045",
       "version_major": 2,
       "version_minor": 0
      },
      "text/plain": [
       "  0%|          | 0/4000 [00:00<?, ?it/s]"
      ]
     },
     "metadata": {},
     "output_type": "display_data"
    }
   ],
   "source": [
    "for file in tqdm(filels):\n",
    "    df = pd.read_csv(file)\n",
    "    df = fill_centered_df(df)\n",
    "    df.to_csv(f\"preprocessed_csv_data/{file.split('/')[-1]}\",index=False)"
   ]
  }
 ],
 "metadata": {
  "kernelspec": {
   "display_name": "Python 3",
   "language": "python",
   "name": "python3"
  },
  "language_info": {
   "codemirror_mode": {
    "name": "ipython",
    "version": 3
   },
   "file_extension": ".py",
   "mimetype": "text/x-python",
   "name": "python",
   "nbconvert_exporter": "python",
   "pygments_lexer": "ipython3",
   "version": "3.6.9"
  }
 },
 "nbformat": 4,
 "nbformat_minor": 5
}
