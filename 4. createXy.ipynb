{
 "cells": [
  {
   "cell_type": "code",
   "execution_count": 1,
   "id": "900da902-44a7-4c62-9ef4-5627ddb23821",
   "metadata": {},
   "outputs": [],
   "source": [
    "import numpy as np\n",
    "np.random.seed(42)\n",
    "np.set_printoptions(suppress=True)\n",
    "from scipy.optimize import least_squares, curve_fit\n",
    "from matplotlib import pylab as plt\n",
    "import pandas as pd\n",
    "import glob\n",
    "import time\n",
    "from tqdm.notebook import tqdm\n",
    "import os\n",
    "import random\n",
    "\n",
    "import warnings\n",
    "from scipy.optimize import OptimizeWarning\n",
    "warnings.simplefilter(\"error\", OptimizeWarning)\n",
    "\n",
    "import seaborn as sns\n",
    "sns.set()"
   ]
  },
  {
   "cell_type": "code",
   "execution_count": 2,
   "id": "2b5e0457-688b-49bd-a115-18530036f1bc",
   "metadata": {},
   "outputs": [],
   "source": [
    "filels = glob.glob(\"preprocessed_csv_data/*.csv\")"
   ]
  },
  {
   "cell_type": "code",
   "execution_count": 3,
   "id": "7ee0b692-d8a0-431d-b669-6e61415abd99",
   "metadata": {},
   "outputs": [
    {
     "data": {
      "application/vnd.jupyter.widget-view+json": {
       "model_id": "4ae0a8f4d10f40c4a3ef31d37bf6665d",
       "version_major": 2,
       "version_minor": 0
      },
      "text/plain": [
       "  0%|          | 0/4000 [00:00<?, ?it/s]"
      ]
     },
     "metadata": {},
     "output_type": "display_data"
    }
   ],
   "source": [
    "X = []\n",
    "y = []\n",
    "objlist = []\n",
    "for file in tqdm(filels):\n",
    "    df = pd.read_csv(file)\n",
    "    df = df.fillna(0)\n",
    "    X.append(df.to_numpy())\n",
    "    y.append(file.split(\"/\")[-1].split(\"_\")[-1].split(\".csv\")[0])\n",
    "    objlist.append(file.split(\"/\")[-1].split(\"_\")[0])\n",
    "X = np.array(X)\n",
    "y = np.array(y)\n",
    "objlist = np.array(objlist)"
   ]
  },
  {
   "cell_type": "code",
   "execution_count": 4,
   "id": "9b961a05-d6b0-48cc-a762-ccf6bbb9d472",
   "metadata": {},
   "outputs": [],
   "source": [
    "if not os.path.isdir(\"np_arrays\"):\n",
    "    os.mkdir(\"np_arrays\")"
   ]
  },
  {
   "cell_type": "code",
   "execution_count": 5,
   "id": "43f8437b-63d8-41f7-b060-922d6fbbfc88",
   "metadata": {},
   "outputs": [],
   "source": [
    "np.save(\"np_arrays/X.npy\",X)\n",
    "np.save(\"np_arrays/y.npy\",y)\n",
    "np.save(\"np_arrays/objlist.npy\",objlist)"
   ]
  }
 ],
 "metadata": {
  "kernelspec": {
   "display_name": "Python 3",
   "language": "python",
   "name": "python3"
  },
  "language_info": {
   "codemirror_mode": {
    "name": "ipython",
    "version": 3
   },
   "file_extension": ".py",
   "mimetype": "text/x-python",
   "name": "python",
   "nbconvert_exporter": "python",
   "pygments_lexer": "ipython3",
   "version": "3.6.9"
  }
 },
 "nbformat": 4,
 "nbformat_minor": 5
}
