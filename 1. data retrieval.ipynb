{
 "cells": [
  {
   "cell_type": "code",
   "execution_count": 1,
   "id": "94496d5d",
   "metadata": {},
   "outputs": [],
   "source": [
    "import os\n",
    "# from resspect.fit_lightcurves import LightCurve\n",
    "import pandas as pd\n",
    "import numpy as np\n",
    "np.random.seed(42)\n",
    "import matplotlib.pyplot as plt\n",
    "import seaborn as sns\n",
    "sns.set()"
   ]
  },
  {
   "cell_type": "code",
   "execution_count": 2,
   "id": "8e100c37-6879-422e-877f-8f3623f9ca04",
   "metadata": {},
   "outputs": [],
   "source": [
    "import sys\n",
    "import warnings\n",
    "\n",
    "if not sys.warnoptions:\n",
    "    warnings.simplefilter(\"ignore\")"
   ]
  },
  {
   "cell_type": "code",
   "execution_count": 3,
   "id": "1c782845-7098-4667-bff3-28e6b941de8c",
   "metadata": {},
   "outputs": [],
   "source": [
    "# !ls /media/RESSPECT/data/RESSPECT_PERFECT_SIM_v2/final_full"
   ]
  },
  {
   "cell_type": "code",
   "execution_count": 4,
   "id": "eb6ff000",
   "metadata": {},
   "outputs": [],
   "source": [
    "# path_to_metadata = '/home/sidchaini/resspect_work/plasticc_workdir/data/plasticc_test_metadata.csv'\n",
    "# path_to_lightcurves = '/home/sidchaini/resspect_work/plasticc_workdir/data/plasticc_test_set_batch1.csv'\n",
    "\n",
    "path_to_metadata = '/media/RESSPECT/data/RESSPECT_PERFECT_SIM_v2/final_full/RESSPECT_PERFECT_V2_TRAIN_HEADER.DAT'\n",
    "path_to_lightcurves = '/media/RESSPECT/data/RESSPECT_PERFECT_SIM_v2/final_full/RESSPECT_PERFECT_V2_TRAIN_LIGHTCURVES.DAT'\n",
    "\n",
    "# path_to_metadata = '/home/sidchaini/resspect_work/plasticc_workdir/data/plasticc_train_metadata.csv'\n",
    "# path_to_lightcurves = '/home/sidchaini/resspect_work/plasticc_workdir/data/plasticc_train_lightcurves.csv'"
   ]
  },
  {
   "cell_type": "code",
   "execution_count": 5,
   "id": "e3ecaa5e",
   "metadata": {},
   "outputs": [],
   "source": [
    "df = pd.read_csv(path_to_lightcurves)"
   ]
  },
  {
   "cell_type": "code",
   "execution_count": 6,
   "id": "429e1ae6-f2b9-43d3-b417-ce6e7657344b",
   "metadata": {},
   "outputs": [],
   "source": [
    "df = df.drop(\"SNR\",1)\n",
    "df = df.rename(columns={\n",
    "    'objid': 'object_id',\n",
    "    'MJD': 'mjd',\n",
    "    'FLT': 'band',\n",
    "    'FLUXCAL': 'flux',\n",
    "    'FLUXCALERR': 'flux_err'\n",
    "})"
   ]
  },
  {
   "cell_type": "code",
   "execution_count": 7,
   "id": "4e177e84",
   "metadata": {},
   "outputs": [],
   "source": [
    "object_ids = np.unique(df[\"object_id\"].values)"
   ]
  },
  {
   "cell_type": "code",
   "execution_count": 8,
   "id": "5500154f",
   "metadata": {},
   "outputs": [],
   "source": [
    "del(df)"
   ]
  },
  {
   "cell_type": "code",
   "execution_count": 9,
   "id": "3d6c8a01",
   "metadata": {},
   "outputs": [],
   "source": [
    "metadata = pd.read_csv(path_to_metadata)\n",
    "metadata = metadata.rename(columns={\n",
    "    'objid': 'object_id',\n",
    "    'code': 'true_target'\n",
    "})"
   ]
  },
  {
   "cell_type": "code",
   "execution_count": 10,
   "id": "48b8a904-21db-4bf3-836c-4b3c1548cb9c",
   "metadata": {},
   "outputs": [],
   "source": [
    "metadata = metadata.set_index(\"object_id\")"
   ]
  },
  {
   "cell_type": "code",
   "execution_count": 11,
   "id": "ddbbbbaa-4d6c-4cc6-aebe-b9b64459f3d6",
   "metadata": {},
   "outputs": [],
   "source": [
    "metadata = metadata.loc[object_ids]"
   ]
  },
  {
   "cell_type": "code",
   "execution_count": 12,
   "id": "e974ab86-31ee-48b5-ab45-c5cd96d550c4",
   "metadata": {},
   "outputs": [
    {
     "data": {
      "text/plain": [
       "90    3000\n",
       "42    2689\n",
       "62    1421\n",
       "52    1000\n",
       "67     863\n",
       "Name: true_target, dtype: int64"
      ]
     },
     "execution_count": 12,
     "metadata": {},
     "output_type": "execute_result"
    }
   ],
   "source": [
    "metadata.true_target.value_counts()"
   ]
  },
  {
   "cell_type": "code",
   "execution_count": 13,
   "id": "cebb317e-a900-427b-abc5-3cf6f93f6f73",
   "metadata": {},
   "outputs": [],
   "source": [
    "\n",
    "obj_class = {\n",
    "    90: \"SNIa\", # WD detonation, Type Ia SN\n",
    "    67: \"SNIa-91bg\", # Peculiar type Ia: 91bg\n",
    "    52: \"SNIax\", # Peculiar SNIax\n",
    "    42: \"SNII\", # Core Collapse, Type II SN\n",
    "    62: \"SNIbc\", # Core Collapse, Type Ibc SN\n",
    "#     95: \"SLSN-I\", # Super-Lum. SN (magnetar)\n",
    "#     15: \"TDE\", # Tidal Disruption Event\n",
    "#     64: \"KN\", # Kilonova (NS-NS merger)\n",
    "#     88: \"AGN\", # Active Galactic Nuclei\n",
    "#     92: \"RRL\", # RR lyrae\n",
    "#     65: \"M-dwarf\", # M-dwarf stellar flare\n",
    "#     16: \"EB\", # Eclipsing Binary stars\n",
    "#     53: \"Mira\", # Pulsating variable stars\n",
    "#      6: \"µLens-Single\" # µ-lens from cosmic strings\n",
    "}"
   ]
  },
  {
   "cell_type": "code",
   "execution_count": 14,
   "id": "396edd51-a009-4f56-ade2-fecd586dfd2c",
   "metadata": {},
   "outputs": [],
   "source": [
    "ls=[]\n",
    "for aclass in obj_class.keys():\n",
    "    ls = ls + list(metadata[metadata[\"true_target\"]==aclass].sample(n=800).index)\n",
    "\n",
    "ls = np.array(ls)"
   ]
  },
  {
   "cell_type": "code",
   "execution_count": 15,
   "id": "532ed654-de8d-4391-b33c-ee90b8456819",
   "metadata": {},
   "outputs": [],
   "source": [
    "metadata = metadata.loc[ls]"
   ]
  },
  {
   "cell_type": "code",
   "execution_count": 16,
   "id": "63b616d3-91bc-4ce7-9229-1bec96a9a471",
   "metadata": {},
   "outputs": [
    {
     "data": {
      "text/plain": [
       "67    800\n",
       "90    800\n",
       "62    800\n",
       "52    800\n",
       "42    800\n",
       "Name: true_target, dtype: int64"
      ]
     },
     "execution_count": 16,
     "metadata": {},
     "output_type": "execute_result"
    }
   ],
   "source": [
    "metadata.true_target.value_counts()"
   ]
  },
  {
   "cell_type": "code",
   "execution_count": 17,
   "id": "d0fa9c0d",
   "metadata": {},
   "outputs": [],
   "source": [
    "metadata = metadata.reset_index()"
   ]
  },
  {
   "cell_type": "code",
   "execution_count": 18,
   "id": "900f05f8",
   "metadata": {},
   "outputs": [
    {
     "data": {
      "text/html": [
       "<div>\n",
       "<style scoped>\n",
       "    .dataframe tbody tr th:only-of-type {\n",
       "        vertical-align: middle;\n",
       "    }\n",
       "\n",
       "    .dataframe tbody tr th {\n",
       "        vertical-align: top;\n",
       "    }\n",
       "\n",
       "    .dataframe thead th {\n",
       "        text-align: right;\n",
       "    }\n",
       "</style>\n",
       "<table border=\"1\" class=\"dataframe\">\n",
       "  <thead>\n",
       "    <tr style=\"text-align: right;\">\n",
       "      <th></th>\n",
       "      <th>object_id</th>\n",
       "      <th>redshift</th>\n",
       "      <th>type</th>\n",
       "      <th>true_target</th>\n",
       "      <th>sample</th>\n",
       "    </tr>\n",
       "  </thead>\n",
       "  <tbody>\n",
       "    <tr>\n",
       "      <th>0</th>\n",
       "      <td>5489</td>\n",
       "      <td>0.267295</td>\n",
       "      <td>Ia</td>\n",
       "      <td>90</td>\n",
       "      <td>train</td>\n",
       "    </tr>\n",
       "    <tr>\n",
       "      <th>1</th>\n",
       "      <td>3485</td>\n",
       "      <td>0.386717</td>\n",
       "      <td>Ia</td>\n",
       "      <td>90</td>\n",
       "      <td>train</td>\n",
       "    </tr>\n",
       "    <tr>\n",
       "      <th>2</th>\n",
       "      <td>5521</td>\n",
       "      <td>0.420196</td>\n",
       "      <td>Ia</td>\n",
       "      <td>90</td>\n",
       "      <td>train</td>\n",
       "    </tr>\n",
       "    <tr>\n",
       "      <th>3</th>\n",
       "      <td>807</td>\n",
       "      <td>0.415685</td>\n",
       "      <td>Ia</td>\n",
       "      <td>90</td>\n",
       "      <td>train</td>\n",
       "    </tr>\n",
       "    <tr>\n",
       "      <th>4</th>\n",
       "      <td>7516</td>\n",
       "      <td>0.405261</td>\n",
       "      <td>Ia</td>\n",
       "      <td>90</td>\n",
       "      <td>train</td>\n",
       "    </tr>\n",
       "    <tr>\n",
       "      <th>...</th>\n",
       "      <td>...</td>\n",
       "      <td>...</td>\n",
       "      <td>...</td>\n",
       "      <td>...</td>\n",
       "      <td>...</td>\n",
       "    </tr>\n",
       "    <tr>\n",
       "      <th>3995</th>\n",
       "      <td>7878</td>\n",
       "      <td>0.553916</td>\n",
       "      <td>Ibc_V19</td>\n",
       "      <td>62</td>\n",
       "      <td>train</td>\n",
       "    </tr>\n",
       "    <tr>\n",
       "      <th>3996</th>\n",
       "      <td>7892</td>\n",
       "      <td>0.674645</td>\n",
       "      <td>Ibc_V19</td>\n",
       "      <td>62</td>\n",
       "      <td>train</td>\n",
       "    </tr>\n",
       "    <tr>\n",
       "      <th>3997</th>\n",
       "      <td>7847</td>\n",
       "      <td>0.547778</td>\n",
       "      <td>Ibc_V19</td>\n",
       "      <td>62</td>\n",
       "      <td>train</td>\n",
       "    </tr>\n",
       "    <tr>\n",
       "      <th>3998</th>\n",
       "      <td>1912</td>\n",
       "      <td>0.617234</td>\n",
       "      <td>Ibc_V19</td>\n",
       "      <td>62</td>\n",
       "      <td>train</td>\n",
       "    </tr>\n",
       "    <tr>\n",
       "      <th>3999</th>\n",
       "      <td>2476</td>\n",
       "      <td>0.410535</td>\n",
       "      <td>Ibc_V19</td>\n",
       "      <td>62</td>\n",
       "      <td>train</td>\n",
       "    </tr>\n",
       "  </tbody>\n",
       "</table>\n",
       "<p>4000 rows × 5 columns</p>\n",
       "</div>"
      ],
      "text/plain": [
       "      object_id  redshift     type  true_target sample\n",
       "0          5489  0.267295       Ia           90  train\n",
       "1          3485  0.386717       Ia           90  train\n",
       "2          5521  0.420196       Ia           90  train\n",
       "3           807  0.415685       Ia           90  train\n",
       "4          7516  0.405261       Ia           90  train\n",
       "...         ...       ...      ...          ...    ...\n",
       "3995       7878  0.553916  Ibc_V19           62  train\n",
       "3996       7892  0.674645  Ibc_V19           62  train\n",
       "3997       7847  0.547778  Ibc_V19           62  train\n",
       "3998       1912  0.617234  Ibc_V19           62  train\n",
       "3999       2476  0.410535  Ibc_V19           62  train\n",
       "\n",
       "[4000 rows x 5 columns]"
      ]
     },
     "execution_count": 18,
     "metadata": {},
     "output_type": "execute_result"
    }
   ],
   "source": [
    "metadata"
   ]
  },
  {
   "cell_type": "code",
   "execution_count": 34,
   "id": "a50b4831",
   "metadata": {},
   "outputs": [],
   "source": [
    "df = pd.read_csv(path_to_lightcurves)\n",
    "\n",
    "df = df.drop(\"SNR\",1)\n",
    "df = df.rename(columns={\n",
    "    'objid': 'object_id',\n",
    "    'MJD': 'mjd',\n",
    "    'FLT': 'band',\n",
    "    'FLUXCAL': 'flux',\n",
    "    'FLUXCALERR': 'fluxerr'\n",
    "})"
   ]
  },
  {
   "cell_type": "code",
   "execution_count": 35,
   "id": "c52a8207",
   "metadata": {},
   "outputs": [],
   "source": [
    "df = df.loc[df['object_id'].isin(metadata[\"object_id\"].values)].reset_index(drop=True)"
   ]
  },
  {
   "cell_type": "code",
   "execution_count": 36,
   "id": "8f3eeee0",
   "metadata": {},
   "outputs": [],
   "source": [
    "# df.to_csv(\"/home/sidchaini/resspect_work/plasticc_workdir/data/plasticc_test_set_batch1_subset.csv\",index=False)\n",
    "# del(df)"
   ]
  },
  {
   "cell_type": "code",
   "execution_count": 37,
   "id": "1cdbc0ec",
   "metadata": {},
   "outputs": [],
   "source": [
    "allclasses = metadata[\"true_target\"].replace(obj_class)"
   ]
  },
  {
   "cell_type": "code",
   "execution_count": 38,
   "id": "89ea64c1-672c-4031-9bdf-a1fa76645101",
   "metadata": {},
   "outputs": [
    {
     "data": {
      "text/html": [
       "<div>\n",
       "<style scoped>\n",
       "    .dataframe tbody tr th:only-of-type {\n",
       "        vertical-align: middle;\n",
       "    }\n",
       "\n",
       "    .dataframe tbody tr th {\n",
       "        vertical-align: top;\n",
       "    }\n",
       "\n",
       "    .dataframe thead th {\n",
       "        text-align: right;\n",
       "    }\n",
       "</style>\n",
       "<table border=\"1\" class=\"dataframe\">\n",
       "  <thead>\n",
       "    <tr style=\"text-align: right;\">\n",
       "      <th></th>\n",
       "      <th>object_id</th>\n",
       "      <th>mjd</th>\n",
       "      <th>band</th>\n",
       "      <th>flux</th>\n",
       "      <th>fluxerr</th>\n",
       "    </tr>\n",
       "  </thead>\n",
       "  <tbody>\n",
       "    <tr>\n",
       "      <th>0</th>\n",
       "      <td>3228</td>\n",
       "      <td>53000.0</td>\n",
       "      <td>u</td>\n",
       "      <td>-0.097085</td>\n",
       "      <td>0.141841</td>\n",
       "    </tr>\n",
       "    <tr>\n",
       "      <th>1</th>\n",
       "      <td>3228</td>\n",
       "      <td>53000.0</td>\n",
       "      <td>g</td>\n",
       "      <td>0.064044</td>\n",
       "      <td>0.142066</td>\n",
       "    </tr>\n",
       "    <tr>\n",
       "      <th>2</th>\n",
       "      <td>3228</td>\n",
       "      <td>53000.0</td>\n",
       "      <td>r</td>\n",
       "      <td>0.193542</td>\n",
       "      <td>0.142521</td>\n",
       "    </tr>\n",
       "    <tr>\n",
       "      <th>3</th>\n",
       "      <td>3228</td>\n",
       "      <td>53000.0</td>\n",
       "      <td>i</td>\n",
       "      <td>0.359073</td>\n",
       "      <td>0.143101</td>\n",
       "    </tr>\n",
       "    <tr>\n",
       "      <th>4</th>\n",
       "      <td>3228</td>\n",
       "      <td>53000.0</td>\n",
       "      <td>z</td>\n",
       "      <td>-0.065577</td>\n",
       "      <td>0.141841</td>\n",
       "    </tr>\n",
       "    <tr>\n",
       "      <th>...</th>\n",
       "      <td>...</td>\n",
       "      <td>...</td>\n",
       "      <td>...</td>\n",
       "      <td>...</td>\n",
       "      <td>...</td>\n",
       "    </tr>\n",
       "    <tr>\n",
       "      <th>2024653</th>\n",
       "      <td>8237</td>\n",
       "      <td>53150.0</td>\n",
       "      <td>g</td>\n",
       "      <td>42.339140</td>\n",
       "      <td>0.249916</td>\n",
       "    </tr>\n",
       "    <tr>\n",
       "      <th>2024654</th>\n",
       "      <td>8237</td>\n",
       "      <td>53150.0</td>\n",
       "      <td>r</td>\n",
       "      <td>111.519770</td>\n",
       "      <td>0.362820</td>\n",
       "    </tr>\n",
       "    <tr>\n",
       "      <th>2024655</th>\n",
       "      <td>8237</td>\n",
       "      <td>53150.0</td>\n",
       "      <td>i</td>\n",
       "      <td>134.575350</td>\n",
       "      <td>0.393312</td>\n",
       "    </tr>\n",
       "    <tr>\n",
       "      <th>2024656</th>\n",
       "      <td>8237</td>\n",
       "      <td>53150.0</td>\n",
       "      <td>z</td>\n",
       "      <td>97.706980</td>\n",
       "      <td>0.343258</td>\n",
       "    </tr>\n",
       "    <tr>\n",
       "      <th>2024657</th>\n",
       "      <td>8237</td>\n",
       "      <td>53150.0</td>\n",
       "      <td>Y</td>\n",
       "      <td>27.369501</td>\n",
       "      <td>0.217918</td>\n",
       "    </tr>\n",
       "  </tbody>\n",
       "</table>\n",
       "<p>2024658 rows × 5 columns</p>\n",
       "</div>"
      ],
      "text/plain": [
       "         object_id      mjd band        flux   fluxerr\n",
       "0             3228  53000.0    u   -0.097085  0.141841\n",
       "1             3228  53000.0    g    0.064044  0.142066\n",
       "2             3228  53000.0    r    0.193542  0.142521\n",
       "3             3228  53000.0    i    0.359073  0.143101\n",
       "4             3228  53000.0    z   -0.065577  0.141841\n",
       "...            ...      ...  ...         ...       ...\n",
       "2024653       8237  53150.0    g   42.339140  0.249916\n",
       "2024654       8237  53150.0    r  111.519770  0.362820\n",
       "2024655       8237  53150.0    i  134.575350  0.393312\n",
       "2024656       8237  53150.0    z   97.706980  0.343258\n",
       "2024657       8237  53150.0    Y   27.369501  0.217918\n",
       "\n",
       "[2024658 rows x 5 columns]"
      ]
     },
     "execution_count": 38,
     "metadata": {},
     "output_type": "execute_result"
    }
   ],
   "source": [
    "df"
   ]
  },
  {
   "cell_type": "code",
   "execution_count": 39,
   "id": "b4d1cde8-429f-4b26-8654-f1ee1847a126",
   "metadata": {},
   "outputs": [],
   "source": [
    "df[\"detected_bool\"]=0"
   ]
  },
  {
   "cell_type": "code",
   "execution_count": 40,
   "id": "dc2411fa-8323-4e29-850d-b55d006bc963",
   "metadata": {},
   "outputs": [
    {
     "data": {
      "text/html": [
       "<div>\n",
       "<style scoped>\n",
       "    .dataframe tbody tr th:only-of-type {\n",
       "        vertical-align: middle;\n",
       "    }\n",
       "\n",
       "    .dataframe tbody tr th {\n",
       "        vertical-align: top;\n",
       "    }\n",
       "\n",
       "    .dataframe thead th {\n",
       "        text-align: right;\n",
       "    }\n",
       "</style>\n",
       "<table border=\"1\" class=\"dataframe\">\n",
       "  <thead>\n",
       "    <tr style=\"text-align: right;\">\n",
       "      <th></th>\n",
       "      <th>object_id</th>\n",
       "      <th>mjd</th>\n",
       "      <th>band</th>\n",
       "      <th>flux</th>\n",
       "      <th>fluxerr</th>\n",
       "      <th>detected_bool</th>\n",
       "    </tr>\n",
       "  </thead>\n",
       "  <tbody>\n",
       "    <tr>\n",
       "      <th>0</th>\n",
       "      <td>3228</td>\n",
       "      <td>53000.0</td>\n",
       "      <td>u</td>\n",
       "      <td>-0.097085</td>\n",
       "      <td>0.141841</td>\n",
       "      <td>0</td>\n",
       "    </tr>\n",
       "    <tr>\n",
       "      <th>1</th>\n",
       "      <td>3228</td>\n",
       "      <td>53000.0</td>\n",
       "      <td>g</td>\n",
       "      <td>0.064044</td>\n",
       "      <td>0.142066</td>\n",
       "      <td>0</td>\n",
       "    </tr>\n",
       "    <tr>\n",
       "      <th>2</th>\n",
       "      <td>3228</td>\n",
       "      <td>53000.0</td>\n",
       "      <td>r</td>\n",
       "      <td>0.193542</td>\n",
       "      <td>0.142521</td>\n",
       "      <td>0</td>\n",
       "    </tr>\n",
       "    <tr>\n",
       "      <th>3</th>\n",
       "      <td>3228</td>\n",
       "      <td>53000.0</td>\n",
       "      <td>i</td>\n",
       "      <td>0.359073</td>\n",
       "      <td>0.143101</td>\n",
       "      <td>0</td>\n",
       "    </tr>\n",
       "    <tr>\n",
       "      <th>4</th>\n",
       "      <td>3228</td>\n",
       "      <td>53000.0</td>\n",
       "      <td>z</td>\n",
       "      <td>-0.065577</td>\n",
       "      <td>0.141841</td>\n",
       "      <td>0</td>\n",
       "    </tr>\n",
       "    <tr>\n",
       "      <th>...</th>\n",
       "      <td>...</td>\n",
       "      <td>...</td>\n",
       "      <td>...</td>\n",
       "      <td>...</td>\n",
       "      <td>...</td>\n",
       "      <td>...</td>\n",
       "    </tr>\n",
       "    <tr>\n",
       "      <th>2024653</th>\n",
       "      <td>8237</td>\n",
       "      <td>53150.0</td>\n",
       "      <td>g</td>\n",
       "      <td>42.339140</td>\n",
       "      <td>0.249916</td>\n",
       "      <td>0</td>\n",
       "    </tr>\n",
       "    <tr>\n",
       "      <th>2024654</th>\n",
       "      <td>8237</td>\n",
       "      <td>53150.0</td>\n",
       "      <td>r</td>\n",
       "      <td>111.519770</td>\n",
       "      <td>0.362820</td>\n",
       "      <td>0</td>\n",
       "    </tr>\n",
       "    <tr>\n",
       "      <th>2024655</th>\n",
       "      <td>8237</td>\n",
       "      <td>53150.0</td>\n",
       "      <td>i</td>\n",
       "      <td>134.575350</td>\n",
       "      <td>0.393312</td>\n",
       "      <td>0</td>\n",
       "    </tr>\n",
       "    <tr>\n",
       "      <th>2024656</th>\n",
       "      <td>8237</td>\n",
       "      <td>53150.0</td>\n",
       "      <td>z</td>\n",
       "      <td>97.706980</td>\n",
       "      <td>0.343258</td>\n",
       "      <td>0</td>\n",
       "    </tr>\n",
       "    <tr>\n",
       "      <th>2024657</th>\n",
       "      <td>8237</td>\n",
       "      <td>53150.0</td>\n",
       "      <td>Y</td>\n",
       "      <td>27.369501</td>\n",
       "      <td>0.217918</td>\n",
       "      <td>0</td>\n",
       "    </tr>\n",
       "  </tbody>\n",
       "</table>\n",
       "<p>2024658 rows × 6 columns</p>\n",
       "</div>"
      ],
      "text/plain": [
       "         object_id      mjd band        flux   fluxerr  detected_bool\n",
       "0             3228  53000.0    u   -0.097085  0.141841              0\n",
       "1             3228  53000.0    g    0.064044  0.142066              0\n",
       "2             3228  53000.0    r    0.193542  0.142521              0\n",
       "3             3228  53000.0    i    0.359073  0.143101              0\n",
       "4             3228  53000.0    z   -0.065577  0.141841              0\n",
       "...            ...      ...  ...         ...       ...            ...\n",
       "2024653       8237  53150.0    g   42.339140  0.249916              0\n",
       "2024654       8237  53150.0    r  111.519770  0.362820              0\n",
       "2024655       8237  53150.0    i  134.575350  0.393312              0\n",
       "2024656       8237  53150.0    z   97.706980  0.343258              0\n",
       "2024657       8237  53150.0    Y   27.369501  0.217918              0\n",
       "\n",
       "[2024658 rows x 6 columns]"
      ]
     },
     "execution_count": 40,
     "metadata": {},
     "output_type": "execute_result"
    }
   ],
   "source": [
    "df"
   ]
  },
  {
   "cell_type": "code",
   "execution_count": 41,
   "id": "98e19a2f",
   "metadata": {},
   "outputs": [],
   "source": [
    "# df.columns = ['object_id', 'mjd', 'band', 'flux', 'fluxerr', 'detected_bool']\n",
    "# df[\"band\"] = df[\"band\"].replace(banddict)"
   ]
  },
  {
   "cell_type": "code",
   "execution_count": 45,
   "id": "fc64425c",
   "metadata": {},
   "outputs": [],
   "source": [
    "if not os.path.isdir(\"csv_data/\"):\n",
    "    os.mkdir(\"csv_data/\")"
   ]
  },
  {
   "cell_type": "code",
   "execution_count": 46,
   "id": "d88150c7",
   "metadata": {},
   "outputs": [
    {
     "data": {
      "application/vnd.jupyter.widget-view+json": {
       "model_id": "2c54f4cfc0464c4fb2426e2500f0de29",
       "version_major": 2,
       "version_minor": 0
      },
      "text/plain": [
       "  0%|          | 0/4000 [00:00<?, ?it/s]"
      ]
     },
     "metadata": {},
     "output_type": "display_data"
    }
   ],
   "source": [
    "from tqdm.notebook import tqdm\n",
    "\n",
    "for i in tqdm(range(len(metadata))):\n",
    "    snid = metadata['object_id'].iloc[i]\n",
    "    classname = allclasses.values[i]\n",
    "    df_sub = df[df[\"object_id\"] == snid][['mjd', 'band', 'flux', 'fluxerr', 'detected_bool']]\n",
    "    df_sub.to_csv(f\"csv_data/{snid}_{classname}.csv\",index=False)"
   ]
  }
 ],
 "metadata": {
  "kernelspec": {
   "display_name": "Python 3",
   "language": "python",
   "name": "python3"
  },
  "language_info": {
   "codemirror_mode": {
    "name": "ipython",
    "version": 3
   },
   "file_extension": ".py",
   "mimetype": "text/x-python",
   "name": "python",
   "nbconvert_exporter": "python",
   "pygments_lexer": "ipython3",
   "version": "3.6.9"
  }
 },
 "nbformat": 4,
 "nbformat_minor": 5
}
