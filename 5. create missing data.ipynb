{
 "cells": [
  {
   "cell_type": "code",
   "execution_count": 1,
   "id": "fdb9b8c4-3b31-46c2-86a9-de7d2c5067db",
   "metadata": {},
   "outputs": [],
   "source": [
    "import numpy as np\n",
    "import pandas as pd\n",
    "import matplotlib.pyplot as plt\n",
    "from tqdm.notebook import tqdm"
   ]
  },
  {
   "cell_type": "code",
   "execution_count": 2,
   "id": "7a22b392-122f-48d2-bba7-d13aa79f7a42",
   "metadata": {},
   "outputs": [],
   "source": [
    "X = np.load(\"np_arrays/X.npy\")\n",
    "y = np.load(\"np_arrays/y.npy\")"
   ]
  },
  {
   "cell_type": "code",
   "execution_count": 3,
   "id": "d3ba5e61-6e4d-4d0d-a68d-fa7c3dc05d12",
   "metadata": {},
   "outputs": [
    {
     "data": {
      "image/png": "[encoded data removed]",
      "text/plain": [
       "<Figure size 432x288 with 1 Axes>"
      ]
     },
     "metadata": {
      "needs_background": "light"
     },
     "output_type": "display_data"
    }
   ],
   "source": [
    "for i in range(6):\n",
    "    plt.scatter(x=np.arange(200), y = X[921,:,i], s=1.5)"
   ]
  },
  {
   "cell_type": "code",
   "execution_count": 4,
   "id": "ef991935-22a9-4ae6-bf48-ac7e3a4518b1",
   "metadata": {},
   "outputs": [],
   "source": [
    "X_plasticc = np.load(\"../centering-time-series-plasticc/np_arrays/X.npy\")\n",
    "y_plasticc = np.load(\"../centering-time-series-plasticc/np_arrays/y.npy\")"
   ]
  },
  {
   "cell_type": "code",
   "execution_count": 5,
   "id": "e6f58355-d5b6-4b3c-a380-782cb41cf5c2",
   "metadata": {},
   "outputs": [
    {
     "data": {
      "image/png": "[encoded data removed]",
      "text/plain": [
       "<Figure size 432x288 with 1 Axes>"
      ]
     },
     "metadata": {
      "needs_background": "light"
     },
     "output_type": "display_data"
    }
   ],
   "source": [
    "for i in range(6):\n",
    "    plt.scatter(x=np.arange(200), y = X_plasticc[323,:,i], s=1.5)"
   ]
  },
  {
   "cell_type": "markdown",
   "id": "6187182b-6e7d-4140-9a26-c531a5cb3ae0",
   "metadata": {},
   "source": [
    "# PLAsTiCC like Downsampling\n",
    "### Strategy:\n",
    "- First fill \"u\" in sims based on plasticc frequency.\n",
    "- Choose where \"u\" is zero in sims, then based on plasticc frequency for \"g\", fill grizY of sims\n",
    "- Choose where \"ugrizy\" all are 0 in sims. Then check if frequency for \"z\" is more than freq for \"g\". If yes, fill the chosen sims as per frequency.\n",
    "- Choose where \"ugrizy\" all are 0 in sims. Then check if frequency for \"Y\" is more than freq for \"z\". If yes, fill the chosen sims as per frequency.\n",
    "\n",
    "(Note: I came up with this strategy after examining the PLAsTiCC data manually. Click cell to read more.)\n",
    "<!--  Code I used:\n",
    "\n",
    "for j in tqdm(range(len(X_plasticc))):\n",
    "    df2 = pd.DataFrame(X_plasticc[j],columns=bands)\n",
    "#     c1 = len(df2[(df2[\"g\"]!=0)]) == len(df2[(df2[\"g\"]!=0) &\n",
    "#                                               (df2[\"r\"]!=0) &\n",
    "#                                               (df2[\"i\"]!=0) &\n",
    "#                                               (df2[\"z\"]!=0) &\n",
    "#                                               (df2[\"Y\"]!=0)\n",
    "#                                              ])\n",
    "    \n",
    "#     c2 = len(df2[(df2[\"g\"]!=0)]) == len(df2[(df2[\"g\"]!=0) &\n",
    "#                                               (df2[\"r\"]!=0) &\n",
    "#                                               (df2[\"i\"]!=0) &\n",
    "#                                               (df2[\"z\"]!=0) &\n",
    "#                                               (df2[\"Y\"]!=0)\n",
    "#                                              ]) + 1\n",
    "\n",
    "#     c3 = len(df2[(df2[\"g\"]!=0)]) == len(df2[(df2[\"g\"]!=0) &\n",
    "#                                               (df2[\"r\"]!=0) &\n",
    "#                                               (df2[\"i\"]!=0) &\n",
    "#                                               (df2[\"z\"]!=0) &\n",
    "#                                               (df2[\"Y\"]!=0)\n",
    "#                                              ]) + 2\n",
    "\n",
    "    c4 = len(df2[(df2[\"g\"]!=0)]) == len(df2[(df2[\"g\"]!=0) &\n",
    "                                              (df2[\"r\"]!=0) &\n",
    "                                              (df2[\"i\"]!=0)\n",
    "                                             ])\n",
    "\n",
    "    assert (c4)\n",
    "-->"
   ]
  },
  {
   "cell_type": "code",
   "execution_count": 6,
   "id": "81b47cff-f4da-4e02-9334-12176fa1d284",
   "metadata": {},
   "outputs": [
    {
     "data": {
      "application/vnd.jupyter.widget-view+json": {
       "model_id": "217a704ac5274f3e9e76e50442b213b9",
       "version_major": 2,
       "version_minor": 0
      },
      "text/plain": [
       "  0%|          | 0/4000 [00:00<?, ?it/s]"
      ]
     },
     "metadata": {},
     "output_type": "display_data"
    },
    {
     "name": "stdout",
     "output_type": "stream",
     "text": [
      "Downsample was not ideal for 741/4000 objects\n"
     ]
    }
   ],
   "source": [
    "bad_downsample_counter = 0\n",
    "X_miss_asplasticc = []\n",
    "bands = [\"u\",\"g\",\"r\",\"i\",\"z\",\"Y\"]\n",
    "for i in tqdm(range(len(X))):\n",
    "    cur_class = y[i]\n",
    "    plasticc_idx = np.random.choice(np.argwhere(y_plasticc==cur_class).reshape(-1),1)[0]\n",
    "    plasticc_arr = X_plasticc[plasticc_idx]\n",
    "    df_plasticc = pd.DataFrame(X_plasticc[plasticc_idx],columns=bands)\n",
    "    df_sims = pd.DataFrame(X[i],columns=bands)\n",
    "\n",
    "    # Count where u is not zero\n",
    "    c_u = len(df_plasticc[df_plasticc[\"u\"]!=0])\n",
    "\n",
    "    # Count where grizy are not zero\n",
    "    c_grizy = len(df_plasticc[\n",
    "        (df_plasticc[\"g\"]!=0) &\n",
    "        (df_plasticc[\"r\"]!=0) &\n",
    "        (df_plasticc[\"i\"]!=0) &\n",
    "        (df_plasticc[\"z\"]!=0) &\n",
    "        (df_plasticc[\"Y\"]!=0)   \n",
    "    ])\n",
    "\n",
    "    # Count where griz are not zero\n",
    "    c_griz = len(df_plasticc[\n",
    "        (df_plasticc[\"g\"]!=0) &\n",
    "        (df_plasticc[\"r\"]!=0) &\n",
    "        (df_plasticc[\"i\"]!=0) &\n",
    "        (df_plasticc[\"z\"]!=0)\n",
    "    ])\n",
    "\n",
    "    # Count where gri are not zero\n",
    "    c_gri = len(df_plasticc[\n",
    "        (df_plasticc[\"g\"]!=0) &\n",
    "        (df_plasticc[\"r\"]!=0) &\n",
    "        (df_plasticc[\"i\"]!=0)\n",
    "    ])\n",
    "    \n",
    "    newdf = pd.DataFrame(0, index=df_sims.index, columns=bands)\n",
    "    # u\n",
    "    try:\n",
    "        tempseries = df_sims.loc[df_sims[\"u\"]!=0,\"u\"].sample(n=c_u).sort_index()\n",
    "    except ValueError:\n",
    "        tempseries = df_sims.loc[df_sims[\"u\"]!=0,\"u\"].sort_index()\n",
    "        assert len(tempseries) < c_u\n",
    "        bad_downsample_counter+=1\n",
    "    newdf.loc[tempseries.index,\"u\"] = tempseries\n",
    "\n",
    "    # grizy\n",
    "    try:\n",
    "        tempseries = df_sims.loc[(newdf[\"u\"]==0) & (df_sims[\"g\"]!=0),\n",
    "                             [\"g\",\"r\",\"i\",\"z\",\"Y\"]].sample(n=c_grizy).sort_index()\n",
    "    except ValueError:\n",
    "        tempseries = df_sims.loc[(newdf[\"u\"]==0) & (df_sims[\"g\"]!=0),\n",
    "                             [\"g\",\"r\",\"i\",\"z\",\"Y\"]].sort_index()\n",
    "        assert len(tempseries) < c_grizy\n",
    "        bad_downsample_counter+=1\n",
    "\n",
    "    newdf.loc[tempseries.index,[\"g\",\"r\",\"i\",\"z\",\"Y\"]] = tempseries\n",
    "\n",
    "    if c_grizy>c_griz:\n",
    "        tempseries = df_sims.loc[(newdf[\"u\"]==0) & (newdf[\"g\"]==0) & (df_sims[\"z\"]!=0),\n",
    "                         [\"z\",\"Y\"]].sample(n=(c_grizy - c_griz)).sort_index()\n",
    "        newdf.loc[tempseries.index,[\"z\",\"Y\"]] = tempseries\n",
    "\n",
    "        if c_griz>c_gri:\n",
    "            tempseries = df_sims.loc[(newdf[\"u\"]==0) & (newdf[\"g\"]==0) & (newdf[\"z\"]==0) & (df_sims[\"Y\"]!=0),\n",
    "                         [\"Y\"]].sample(n=(c_griz - c_gri)).sort_index()\n",
    "            newdf.loc[tempseries.index,[\"Y\"]] = tempseries\n",
    "    \n",
    "    X_miss_asplasticc.append(newdf.to_numpy())\n",
    "\n",
    "print(f\"Downsample was not ideal for {bad_downsample_counter}/{len(X_miss_asplasticc)} objects\")\n",
    "X_miss_asplasticc = np.array(X_miss_asplasticc)"
   ]
  },
  {
   "cell_type": "code",
   "execution_count": 7,
   "id": "70ad4c65-bc4e-4921-9fd1-81713552beb5",
   "metadata": {},
   "outputs": [
    {
     "data": {
      "image/png": "[encoded data removed]",
      "text/plain": [
       "<Figure size 432x288 with 2 Axes>"
      ]
     },
     "metadata": {
      "needs_background": "light"
     },
     "output_type": "display_data"
    }
   ],
   "source": [
    "f, (ax1, ax2) = plt.subplots(1, 2, sharey=True)\n",
    "for i in range(6):\n",
    "    ax1.scatter(x=np.arange(200), y = X[921,:,i], s=1.5)\n",
    "    ax1.set_title(\"Full Set\")\n",
    "for i in range(6):\n",
    "    ax2.scatter(x=np.arange(200), y = X_miss_asplasticc[921,:,i], s=1.5)\n",
    "    ax2.set_title(\"Downsampled/Missing Set\")"
   ]
  },
  {
   "cell_type": "code",
   "execution_count": 8,
   "id": "405f6bfb-957b-4ee0-9476-5f3350763145",
   "metadata": {},
   "outputs": [],
   "source": [
    "np.save(\"np_arrays/X_miss_asplasticc.npy\",X_miss_asplasticc)"
   ]
  },
  {
   "cell_type": "code",
   "execution_count": 9,
   "id": "b89eb4fe-d80a-4345-9b0f-1fea092f67ff",
   "metadata": {},
   "outputs": [],
   "source": [
    "del(X_miss_asplasticc,X_plasticc)"
   ]
  },
  {
   "cell_type": "markdown",
   "id": "b29f33d5-5ca6-4bf4-b7fb-ef2f6cba8869",
   "metadata": {},
   "source": [
    "# Drop 50% of data from each column"
   ]
  },
  {
   "cell_type": "code",
   "execution_count": 10,
   "id": "05b10204-7ab3-4e3a-b135-11f89f8ab901",
   "metadata": {},
   "outputs": [
    {
     "data": {
      "application/vnd.jupyter.widget-view+json": {
       "model_id": "8e4d1429092944e285adb075595e3135",
       "version_major": 2,
       "version_minor": 0
      },
      "text/plain": [
       "  0%|          | 0/4000 [00:00<?, ?it/s]"
      ]
     },
     "metadata": {},
     "output_type": "display_data"
    }
   ],
   "source": [
    "X_miss_50 = []\n",
    "bands = [\"u\",\"g\",\"r\",\"i\",\"z\",\"Y\"]\n",
    "for i in tqdm(range(len(X))):\n",
    "    df_sims = pd.DataFrame(X[i],columns=bands)\n",
    "    for band in bands:\n",
    "        reset_idx = np.sort(np.random.choice(df_sims.index,size=len(df_sims)//2,replace=False))\n",
    "        df_sims.loc[reset_idx,band] = 0\n",
    "    X_miss_50.append(df_sims.to_numpy())\n",
    "X_miss_50 = np.array(X_miss_50)"
   ]
  },
  {
   "cell_type": "code",
   "execution_count": 11,
   "id": "db9fab54-5a4e-4ba6-8202-72a47b5a5df5",
   "metadata": {},
   "outputs": [],
   "source": [
    "X = np.load(\"np_arrays/X.npy\")"
   ]
  },
  {
   "cell_type": "code",
   "execution_count": 12,
   "id": "3c094c7e-0ac8-4aa9-8036-1429024a8a10",
   "metadata": {},
   "outputs": [
    {
     "data": {
      "image/png": "[encoded data removed]",
      "text/plain": [
       "<Figure size 432x288 with 2 Axes>"
      ]
     },
     "metadata": {
      "needs_background": "light"
     },
     "output_type": "display_data"
    }
   ],
   "source": [
    "f, (ax1, ax2) = plt.subplots(1, 2, sharey=True)\n",
    "for i in range(6):\n",
    "    ax1.scatter(x=np.arange(200), y = X[921,:,i], s=1.5)\n",
    "    ax1.set_title(\"Full Set\")\n",
    "for i in range(6):\n",
    "    ax2.scatter(x=np.arange(200), y = X_miss_50[921,:,i], s=1.5)\n",
    "    ax2.set_title(\"Downsampled/Missing Set\")"
   ]
  },
  {
   "cell_type": "code",
   "execution_count": 13,
   "id": "9557c9b7-9217-4bdf-83e6-f7590abe742b",
   "metadata": {},
   "outputs": [],
   "source": [
    "np.save(\"np_arrays/X_miss_50.npy\",X_miss_50)"
   ]
  }
 ],
 "metadata": {
  "kernelspec": {
   "display_name": "Python 3",
   "language": "python",
   "name": "python3"
  },
  "language_info": {
   "codemirror_mode": {
    "name": "ipython",
    "version": 3
   },
   "file_extension": ".py",
   "mimetype": "text/x-python",
   "name": "python",
   "nbconvert_exporter": "python",
   "pygments_lexer": "ipython3",
   "version": "3.6.9"
  }
 },
 "nbformat": 4,
 "nbformat_minor": 5
}
